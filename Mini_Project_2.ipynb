{
  "nbformat": 4,
  "nbformat_minor": 0,
  "metadata": {
    "colab": {
      "provenance": [],
      "authorship_tag": "ABX9TyOp3jjje09dEg03cVdFLw/h",
      "include_colab_link": true
    },
    "kernelspec": {
      "name": "python3",
      "display_name": "Python 3"
    },
    "language_info": {
      "name": "python"
    }
  },
  "cells": [
    {
      "cell_type": "markdown",
      "metadata": {
        "id": "view-in-github",
        "colab_type": "text"
      },
      "source": [
        "<a href=\"https://colab.research.google.com/github/gurpinder7473/First-project/blob/main/Mini_Project_2.ipynb\" target=\"_parent\"><img src=\"https://colab.research.google.com/assets/colab-badge.svg\" alt=\"Open In Colab\"/></a>"
      ]
    },
    {
      "cell_type": "markdown",
      "source": [
        "Challenge Question\n",
        "-----------------------------------------------------------------------------------------------------------------------------\n",
        "1. Write a python program to sort the list of heterogeneous data.\n",
        "e.g.\n",
        "L = [\"Ram\", 1, \"Shyam\", 2, \"Aman\", 3]\n",
        "print(L)\n",
        "L.sort()\n",
        "print(L)\n",
        "# Above code gives error. Correct it."
      ],
      "metadata": {
        "id": "hiUL7m9IKqo5"
      }
    },
    {
      "cell_type": "code",
      "source": [
        "L = [\"Ram\", 1, \"Shyam\", 2, \"Aman\", 3]\n",
        "\n",
        "# Separate strings and integers\n",
        "L1 = sorted([x for x in L if isinstance(x, str)])\n",
        "L2 = sorted([x for x in L if isinstance(x, int)])\n",
        "\n",
        "# Combine if desired\n",
        "sorted_L =L1 + L2\n",
        "\n",
        "print(\"Original List:\", L)\n",
        "print(\"Sorted_List:\", sorted_L)\n"
      ],
      "metadata": {
        "colab": {
          "base_uri": "https://localhost:8080/"
        },
        "id": "GJUu0HGCKrqC",
        "outputId": "2407cfb5-2525-4fa7-c369-8eaa578067fd"
      },
      "execution_count": null,
      "outputs": [
        {
          "output_type": "stream",
          "name": "stdout",
          "text": [
            "Original List: ['Ram', 1, 'Shyam', 2, 'Aman', 3]\n",
            "Sorted_List: ['Aman', 'Ram', 'Shyam', 1, 2, 3]\n"
          ]
        }
      ]
    }
  ]
}