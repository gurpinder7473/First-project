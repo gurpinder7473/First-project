{
  "nbformat": 4,
  "nbformat_minor": 0,
  "metadata": {
    "colab": {
      "provenance": [],
      "authorship_tag": "ABX9TyM4JKv9LjqdDowNUaQuwgS6",
      "include_colab_link": true
    },
    "kernelspec": {
      "name": "python3",
      "display_name": "Python 3"
    },
    "language_info": {
      "name": "python"
    }
  },
  "cells": [
    {
      "cell_type": "markdown",
      "metadata": {
        "id": "view-in-github",
        "colab_type": "text"
      },
      "source": [
        "<a href=\"https://colab.research.google.com/github/gurpinder7473/First-project/blob/main/Copy_of_Project_5.ipynb\" target=\"_parent\"><img src=\"https://colab.research.google.com/assets/colab-badge.svg\" alt=\"Open In Colab\"/></a>"
      ]
    },
    {
      "cell_type": "code",
      "execution_count": null,
      "metadata": {
        "colab": {
          "base_uri": "https://localhost:8080/"
        },
        "id": "7COx9mVp3Fh7",
        "outputId": "37a7793e-7989-400e-aa84-777e80aeef56"
      },
      "outputs": [
        {
          "output_type": "execute_result",
          "data": {
            "text/plain": [
              "1749710359.7591774"
            ]
          },
          "metadata": {},
          "execution_count": 1
        }
      ],
      "source": [
        "import time as t\n",
        "t.time()\n"
      ]
    },
    {
      "cell_type": "code",
      "source": [
        "import time as t\n",
        "print(t.time())\n",
        "t.sleep(5)\n",
        "print(t.time())"
      ],
      "metadata": {
        "colab": {
          "base_uri": "https://localhost:8080/"
        },
        "id": "KgUNdXL63Wbf",
        "outputId": "1e0cd8e1-2b34-4cd5-bf5d-c87c6e473ebb"
      },
      "execution_count": null,
      "outputs": [
        {
          "output_type": "stream",
          "name": "stdout",
          "text": [
            "1749710414.000028\n",
            "1749710419.000482\n"
          ]
        }
      ]
    },
    {
      "cell_type": "code",
      "source": [
        "import time as t\n",
        "t1=t.time()\n",
        "print(t1)\n",
        "\n",
        "t.sleep(5)\n",
        "\n",
        "t2=t.time()\n",
        "print(t2)\n",
        "\n",
        "print(\"Total Time taken=\",t2-t1)"
      ],
      "metadata": {
        "colab": {
          "base_uri": "https://localhost:8080/"
        },
        "id": "iXDVhG2l3nmn",
        "outputId": "f4de09b1-3dc2-43d5-bcb4-82db0ba9ec56"
      },
      "execution_count": null,
      "outputs": [
        {
          "output_type": "stream",
          "name": "stdout",
          "text": [
            "1749710537.1359007\n",
            "1749710542.1364198\n",
            "Total Time taken= 5.000519037246704\n"
          ]
        }
      ]
    },
    {
      "cell_type": "code",
      "source": [
        "import time as t\n",
        "t1=t.time()\n",
        "print(t1)\n",
        "\n",
        "for j in range(9999):\n",
        "  x=[1 for i in range(9999)]\n",
        "\n",
        "t2=t.time()\n",
        "print(t2)\n",
        "\n",
        "print(\"Total Time taken=\",t2-t1)"
      ],
      "metadata": {
        "colab": {
          "base_uri": "https://localhost:8080/"
        },
        "id": "Ox4aQPxi4CiF",
        "outputId": "e9f27d51-6d72-4c82-f4a1-d46c3370acbf"
      },
      "execution_count": null,
      "outputs": [
        {
          "output_type": "stream",
          "name": "stdout",
          "text": [
            "1749710607.1419709\n",
            "1749710611.227019\n",
            "Total Time taken= 4.085048198699951\n"
          ]
        }
      ]
    }
  ]
}