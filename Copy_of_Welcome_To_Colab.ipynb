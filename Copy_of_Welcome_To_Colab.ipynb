{
  "cells": [
    {
      "cell_type": "markdown",
      "metadata": {
        "id": "view-in-github",
        "colab_type": "text"
      },
      "source": [
        "<a href=\"https://colab.research.google.com/github/gurpinder7473/First-project/blob/main/Copy_of_Welcome_To_Colab.ipynb\" target=\"_parent\"><img src=\"https://colab.research.google.com/assets/colab-badge.svg\" alt=\"Open In Colab\"/></a>"
      ]
    },
    {
      "cell_type": "markdown",
      "source": [
        "-----------------------------------------------------------------------------------------------------------------------------\n",
        "Python Assignment\n",
        "-----------------------------------------------------------------------------------------------------------------------------\n",
        "Q1. L is a list defined as L= [11, 12, 13, 14].\n",
        "(i) WAP to add 50 and 60 to L.\n",
        "(ii) WAP to remove 11 and 13from L.\n",
        "(iii) WAP to sort L in ascending order.\n",
        "(iv) WAP to sort L in descending order.\n",
        "(v) WAP to search for 13 in L.\n",
        "(vi) WAP to count the number of elements present in L.\n",
        "(vii) WAP to sum all the elements in L.\n",
        "(viii) WAP to sum all ODD numbers in L.\n",
        "(ix) WAP to sum all EVEN numbers in L.\n",
        "(x) WAP to sum all PRIME numbers in L.\n",
        "(xi) WAP to clear all the elements in L.\n",
        "(xii) WAP to delete L.\n"
      ],
      "metadata": {
        "id": "j_HFxbju-2wu"
      }
    },
    {
      "cell_type": "markdown",
      "source": [],
      "metadata": {
        "id": "ToV2LQIw_zmQ"
      }
    },
    {
      "cell_type": "code",
      "source": [
        "L = [11, 12, 13, 14]\n",
        "\n",
        "# (i) Add 50 and 60\n",
        "L.append(50)\n",
        "L.append(60)\n",
        "print(\"After append:\", L)\n",
        "\n",
        "# (ii) Remove 11 and 13\n",
        "L.remove(11)\n",
        "L.remove(13)\n",
        "print(\"After removal:\", L)\n",
        "\n",
        "# (iii) Sort in ascending\n",
        "L.sort()\n",
        "print(\"Ascending:\", L)\n",
        "\n",
        "# (iv) Sort in descending\n",
        "L.sort(reverse=True)\n",
        "print(\"Descending:\", L)\n",
        "\n",
        "# (v) Search 13\n",
        "print(\"13 in L?\", 13 in L)\n",
        "\n",
        "# (vi) Count elements\n",
        "print(\"Length of L:\", len(L))\n",
        "\n",
        "# (vii) Sum all elements\n",
        "print(\"Sum:\", sum(L))\n",
        "\n",
        "# (viii) Sum of ODD numbers\n",
        "print(\"Sum Odd:\", sum(x for x in L if x % 2 != 0))\n",
        "\n",
        "# (ix) Sum of EVEN numbers\n",
        "print(\"Sum Even:\", sum(x for x in L if x % 2 == 0))\n",
        "\n",
        "# (x) Sum of PRIME numbers\n",
        "def is_prime(n):\n",
        "    if n < 2: return False\n",
        "    for i in range(2, int(n**0.5)+1):\n",
        "        if n % i == 0: return False\n",
        "    return True\n",
        "\n",
        "print(\"Sum Prime:\", sum(x for x in L if is_prime(x)))\n",
        "\n",
        "# (xi) Clear list\n",
        "L.clear()\n",
        "print(\"After clear:\", L)\n",
        "\n",
        "# (xii) Delete list\n",
        "del L\n",
        "# print(L) # Uncommenting this will raise error\n"
      ],
      "metadata": {
        "id": "p7ilAlAd-8LJ",
        "outputId": "121543a7-c020-4f78-ef53-aa94aff38480",
        "colab": {
          "base_uri": "https://localhost:8080/"
        }
      },
      "execution_count": null,
      "outputs": [
        {
          "output_type": "stream",
          "name": "stdout",
          "text": [
            "After append: [11, 12, 13, 14, 50, 60]\n",
            "After removal: [12, 14, 50, 60]\n",
            "Ascending: [12, 14, 50, 60]\n",
            "Descending: [60, 50, 14, 12]\n",
            "13 in L? False\n",
            "Length of L: 4\n",
            "Sum: 136\n",
            "Sum Odd: 0\n",
            "Sum Even: 136\n",
            "Sum Prime: 0\n",
            "After clear: []\n"
          ]
        }
      ]
    },
    {
      "cell_type": "markdown",
      "source": [
        "Q2. D is a dictionary defined as D= {1:5.6, 2:7.8, 3:6.6, 4:8.7, 5:7.7}.\n",
        "(i) WAP to add new entry in D; key=8 and value is 8.8\n",
        "(ii) WAP to remove key=2.\n",
        "(iii) WAP to check weather 6 key is present in D.\n",
        "(iv) WAP to count the number of elements present in D.\n",
        "(v) WAP to add all the values present D.\n",
        "(vi) WAP to update the value of 3 to 7.1.\n",
        "(vii) WAP to clear the dictionary\n",
        "\n"
      ],
      "metadata": {
        "id": "aLZEHm1S_5hu"
      }
    },
    {
      "cell_type": "code",
      "source": [
        "D = {1:5.6, 2:7.8, 3:6.6, 4:8.7, 5:7.7}\n",
        "\n",
        "# (i) Add new entry key=8, value=8.8\n",
        "D[8] = 8.8\n",
        "\n",
        "# (ii) Remove key=2\n",
        "D.pop(2, None)\n",
        "\n",
        "# (iii) Check key=6\n",
        "print(\"Is key 6 in D?\", 6 in D)\n",
        "\n",
        "# (iv) Count elements\n",
        "print(\"Number of elements:\", len(D))\n",
        "\n",
        "# (v) Sum all values\n",
        "print(\"Sum of values:\", sum(D.values()))\n",
        "\n",
        "# (vi) Update value of 3 to 7.1\n",
        "D[3] = 7.1\n",
        "\n",
        "# (vii) Clear dictionary\n",
        "D.clear()\n",
        "print(\"Dictionary after clearing:\", D)\n"
      ],
      "metadata": {
        "id": "OxbI4oLQAXV3"
      },
      "execution_count": null,
      "outputs": []
    },
    {
      "cell_type": "markdown",
      "source": [
        "Q3. S1 is a set defined as S1= [10, 20, 30, 40, 50, 60].\n",
        " S2 is a set defined as S2= [40, 50, 60, 70, 80, 90].\n",
        "(i) WAP to add 55 and 66 in Set S1.\n",
        "(ii) WAP to remove 10 and 30 from Set S1.\n",
        "(iii) WAP to check whether 40 is present in S1.\n",
        "(iv) WAP to find the union between S1 and S2.\n",
        "(v) WAP to find the intersection between S1 and S2.\n",
        "(vi) WAP to find the S1 - S2.\n"
      ],
      "metadata": {
        "id": "SMGh_WdzAdLB"
      }
    },
    {
      "cell_type": "code",
      "source": [
        "S1 = {10, 20, 30, 40, 50, 60}\n",
        "S2 = {40, 50, 60, 70, 80, 90}\n",
        "\n",
        "# (i) Add 55, 66\n",
        "S1.update([55, 66])\n",
        "\n",
        "# (ii) Remove 10, 30\n",
        "S1.discard(10)\n",
        "S1.discard(30)\n",
        "\n",
        "# (iii) Check 40\n",
        "print(\"40 in S1?\", 40 in S1)\n",
        "\n",
        "# (iv) Union\n",
        "print(\"Union:\", S1.union(S2))\n",
        "\n",
        "# (v) Intersection\n",
        "print(\"Intersection:\", S1.intersection(S2))\n",
        "\n",
        "# (vi) S1 - S2\n",
        "print(\"S1 - S2:\", S1.difference(S2))\n"
      ],
      "metadata": {
        "id": "SspVL4vTA20h"
      },
      "execution_count": null,
      "outputs": []
    },
    {
      "cell_type": "markdown",
      "source": [
        "Q4. Write the following program.\n",
        "(i) WAP to print 100 random strings whose length between 6 and 8.\n",
        "(ii) WAP to print all prime numbers between 600 and 800.\n",
        "(iii) WAP to print all numbers between 100 and 1000 that are divisible by 7 and 9."
      ],
      "metadata": {
        "id": "8-b5WAnuA841"
      }
    },
    {
      "cell_type": "code",
      "source": [
        "import random\n",
        "import string\n",
        "\n",
        "# (i) 100 random strings of length 6 to 8\n",
        "for _ in range(100):\n",
        "    print(''.join(random.choices(string.ascii_letters, k=random.randint(6, 8))))\n",
        "\n",
        "# (ii) Prime numbers between 600–800\n",
        "for i in range(600, 801):\n",
        "    if is_prime(i): print(i)\n",
        "\n",
        "# (iii) Numbers divisible by both 7 and 9 (i.e., by 63)\n",
        "for i in range(100, 1001):\n",
        "    if i % 63 == 0:\n",
        "        print(i)\n"
      ],
      "metadata": {
        "id": "l84d6mSsBB6X"
      },
      "execution_count": null,
      "outputs": []
    },
    {
      "cell_type": "markdown",
      "source": [
        "Q5. WAP to create two lists of 10 random numbers between 10 and 30; Find\n",
        "(i) Common numbers in the two lists\n",
        "(ii) Unique numbers in both the list\n",
        "(iii) Minimum in both the list\n",
        "(iv) Maximum in both the list\n",
        "(v) Sum of both the lists"
      ],
      "metadata": {
        "id": "A4zYckArBPj8"
      }
    },
    {
      "cell_type": "code",
      "source": [
        "list1 = [random.randint(10, 30) for _ in range(10)]\n",
        "list2 = [random.randint(10, 30) for _ in range(10)]\n",
        "\n",
        "# (i) Common numbers\n",
        "print(\"Common:\", set(list1).intersection(list2))\n",
        "\n",
        "# (ii) Unique numbers\n",
        "print(\"Unique:\", set(list1).symmetric_difference(list2))\n",
        "\n",
        "# (iii) Minimum\n",
        "print(\"Min:\", min(list1), min(list2))\n",
        "\n",
        "# (iv) Maximum\n",
        "print(\"Max:\", max(list1), max(list2))\n",
        "\n",
        "# (v) Sum\n",
        "print(\"Sum:\", sum(list1), sum(list2))\n"
      ],
      "metadata": {
        "id": "KwOiBIw6BRHU"
      },
      "execution_count": null,
      "outputs": []
    },
    {
      "cell_type": "markdown",
      "source": [
        "Q6. WAP to create a list of 100 random numbers between 100 and 900. Count and print the:\n",
        "(i) All odd numbers\n",
        "(ii) All even numbers\n",
        "(iii) All prime numbers\n"
      ],
      "metadata": {
        "id": "tJ2XcMejBWfZ"
      }
    },
    {
      "cell_type": "code",
      "source": [
        "nums = [random.randint(100, 900) for _ in range(100)]\n",
        "\n",
        "odds = [x for x in nums if x % 2 != 0]\n",
        "evens = [x for x in nums if x % 2 == 0]\n",
        "primes = [x for x in nums if is_prime(x)]\n",
        "\n",
        "print(\"Odd count:\", len(odds))\n",
        "print(\"Even count:\", len(evens))\n",
        "print(\"Prime count:\", len(primes))\n"
      ],
      "metadata": {
        "id": "iyiB3vUJBflz"
      },
      "execution_count": null,
      "outputs": []
    },
    {
      "cell_type": "markdown",
      "source": [
        "Q7. D is a dictionary defined as D={1:\"One\",2:\"Two\",3:\"Three\",4:\"Four\", 5:\"Five\"}.\n",
        " WAP to read all the keys and values from dictionary and write to the file in the given below format.\n",
        "Key1, Value1\n",
        "Key2, Value2\n",
        "Key3, Value3"
      ],
      "metadata": {
        "id": "k8lWngNaBjcZ"
      }
    },
    {
      "cell_type": "code",
      "source": [
        "D = {1:\"One\",2:\"Two\",3:\"Three\",4:\"Four\", 5:\"Five\"}\n",
        "\n",
        "with open(\"dict_output.txt\", \"w\") as f:\n",
        "    for k, v in D.items():\n",
        "        f.write(f\"{k}, {v}\\n\")\n"
      ],
      "metadata": {
        "id": "sSKcj-JeBmgH"
      },
      "execution_count": null,
      "outputs": []
    },
    {
      "cell_type": "markdown",
      "source": [
        "Q8. L is a list defined as L={\"One\",\"Two\",\"Three\",\"Four\",\"Five\"}.\n",
        " WAP to count the length of reach element from a list and write to the file in the given below format:\n",
        "One, 3\n",
        "Two, 3\n",
        "Four, 4"
      ],
      "metadata": {
        "id": "oa0SpdCzBpun"
      }
    },
    {
      "cell_type": "code",
      "source": [
        "L = [\"One\",\"Two\",\"Three\",\"Four\",\"Five\"]\n",
        "\n",
        "with open(\"length_output.txt\", \"w\") as f:\n",
        "    for word in L:\n",
        "        f.write(f\"{word}, {len(word)}\\n\")\n"
      ],
      "metadata": {
        "id": "iepLGJQmBuEc"
      },
      "execution_count": null,
      "outputs": []
    },
    {
      "cell_type": "markdown",
      "source": [
        "Q9. Write to the file 100 random strings whose length between 10 and 15."
      ],
      "metadata": {
        "id": "J0gPX5HaBwXa"
      }
    },
    {
      "cell_type": "code",
      "source": [
        "with open(\"random_strings.txt\", \"w\") as f:\n",
        "    for _ in range(100):\n",
        "        s = ''.join(random.choices(string.ascii_letters, k=random.randint(10, 15)))\n",
        "        f.write(s + \"\\n\")\n"
      ],
      "metadata": {
        "id": "_cunUCnFB13j"
      },
      "execution_count": null,
      "outputs": []
    },
    {
      "cell_type": "markdown",
      "source": [
        "Q10. Write to the file all prime numbers between 600 and 800."
      ],
      "metadata": {
        "id": "n_y8LIiaB5WP"
      }
    },
    {
      "cell_type": "code",
      "source": [
        "with open(\"prime_600_800.txt\", \"w\") as f:\n",
        "    for i in range(600, 801):\n",
        "        if is_prime(i):\n",
        "            f.write(str(i) + \"\\n\")\n"
      ],
      "metadata": {
        "id": "8bxcRGaeB8g5"
      },
      "execution_count": null,
      "outputs": []
    },
    {
      "cell_type": "markdown",
      "source": [
        "Q11. WAP to calculate the time taken by a program"
      ],
      "metadata": {
        "id": "6n5Ae0NTB_W6"
      }
    },
    {
      "cell_type": "code",
      "source": [
        "import time\n",
        "\n",
        "start = time.time()\n",
        "sum = 0\n",
        "for i in range(1, 1000000):\n",
        "    sum += i\n",
        "end = time.time()\n",
        "\n",
        "print(\"Time taken:\", end - start)\n"
      ],
      "metadata": {
        "id": "1sn46GAbCCgt"
      },
      "execution_count": null,
      "outputs": []
    },
    {
      "cell_type": "markdown",
      "source": [
        "Q12. WAP to sort following number of elements in a list, calculate time taken and plot the graph.\n",
        "Number of elements in list and  Time Taken\n",
        "5k:T1,\n",
        "10k:T2,\n",
        "15k:T3,\n",
        "20k:T4,\n",
        "25k:T5"
      ],
      "metadata": {
        "id": "A_WVoL65CMgS"
      }
    },
    {
      "cell_type": "code",
      "source": [
        "import matplotlib.pyplot as plt\n",
        "\n",
        "sizes = [5000, 10000, 15000, 20000, 25000]\n",
        "times = []\n",
        "\n",
        "for size in sizes:\n",
        "    lst = [random.randint(1, 10000) for _ in range(size)]\n",
        "    start = time.time()\n",
        "    lst.sort()\n",
        "    end = time.time()\n",
        "    times.append(end - start)\n",
        "\n",
        "for s, t in zip(sizes, times):\n",
        "    print(f\"{s}, {t:.5f}\")\n",
        "\n",
        "plt.plot(sizes, times, marker='o')\n",
        "plt.xlabel('Number of Elements')\n",
        "plt.ylabel('Time Taken (s)')\n",
        "plt.title('Sorting Time vs List Size')\n",
        "plt.grid(True)\n",
        "plt.show()\n"
      ],
      "metadata": {
        "id": "qRTaRrJ6CVBn"
      },
      "execution_count": null,
      "outputs": []
    },
    {
      "cell_type": "markdown",
      "source": [
        "Q13. WAP to create a dictionary of student marks in five subjects and you have to find the student\n",
        " having maximum and minimum average marks."
      ],
      "metadata": {
        "id": "r_zlbPneC51A"
      }
    },
    {
      "cell_type": "code",
      "source": [
        "students = {\n",
        "    \"A\": [78, 67, 80, 75, 90],\n",
        "    \"B\": [88, 79, 85, 70, 69],\n",
        "    \"C\": [55, 60, 58, 65, 59]\n",
        "}\n",
        "\n",
        "avg_marks = {name: sum(marks)/len(marks) for name, marks in students.items()}\n",
        "max_student = max(avg_marks, key=avg_marks.get)\n",
        "min_student = min(avg_marks, key=avg_marks.get)\n",
        "\n",
        "print(\"Max Avg:\", max_student, avg_marks[max_student])\n",
        "print(\"Min Avg:\", min_student, avg_marks[min_student])\n"
      ],
      "metadata": {
        "id": "n27fIAOxC8lH"
      },
      "execution_count": null,
      "outputs": []
    }
  ],
  "metadata": {
    "colab": {
      "provenance": [],
      "include_colab_link": true
    },
    "kernelspec": {
      "display_name": "Python 3",
      "name": "python3"
    }
  },
  "nbformat": 4,
  "nbformat_minor": 0
}