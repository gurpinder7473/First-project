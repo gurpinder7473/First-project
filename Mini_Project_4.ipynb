{
  "nbformat": 4,
  "nbformat_minor": 0,
  "metadata": {
    "colab": {
      "provenance": [],
      "authorship_tag": "ABX9TyPZEFruNnGfNfJuGHSsYMJA",
      "include_colab_link": true
    },
    "kernelspec": {
      "name": "python3",
      "display_name": "Python 3"
    },
    "language_info": {
      "name": "python"
    }
  },
  "cells": [
    {
      "cell_type": "markdown",
      "metadata": {
        "id": "view-in-github",
        "colab_type": "text"
      },
      "source": [
        "<a href=\"https://colab.research.google.com/github/gurpinder7473/First-project/blob/main/Mini_Project_4.ipynb\" target=\"_parent\"><img src=\"https://colab.research.google.com/assets/colab-badge.svg\" alt=\"Open In Colab\"/></a>"
      ]
    },
    {
      "cell_type": "markdown",
      "source": [
        "COMBOFINDER\n",
        "\n",
        "\n",
        "Problem Statement:\n",
        "Find all the list of products whose sum-of-price is between 290 and 310.\n",
        "\n",
        "\n",
        "\n",
        "ProductList = {p1:10, p2:15, p3:20, p4:25, p5:30, p6:35, p7:50}"
      ],
      "metadata": {
        "id": "2luq93ESSS9I"
      }
    },
    {
      "cell_type": "markdown",
      "source": [
        "1 Library inclusion"
      ],
      "metadata": {
        "id": "ea519FOuSjKe"
      }
    },
    {
      "cell_type": "code",
      "source": [
        "import random as r"
      ],
      "metadata": {
        "id": "1mpOfUwGSlAU"
      },
      "execution_count": null,
      "outputs": []
    },
    {
      "cell_type": "markdown",
      "source": [
        "2 Parameter Setting"
      ],
      "metadata": {
        "id": "r1DyIZDTSodT"
      }
    },
    {
      "cell_type": "markdown",
      "source": [
        "Read the productId-price file and convert to dictionary"
      ],
      "metadata": {
        "id": "ooLEPs2mSsvf"
      }
    },
    {
      "cell_type": "code",
      "source": [
        "ProductList = {'p1':10, 'p2':15, 'p3':20, 'p4':25, 'p5':30, 'p6':35, 'p7':50,\n",
        "               'p8':40, 'p9':55, 'p10':60, 'p11':65, 'p12':75, 'p13':70,\n",
        "               'p14':45}\n",
        "LB          = 290\n",
        "UB          = 310\n",
        "ResultList  = set()   # Store Result List i.e. list of sets whose sum is between 90 and 210.\n",
        "Iterations  = 1000    # Number of Inerations"
      ],
      "metadata": {
        "id": "SpP8SQPzSvm2"
      },
      "execution_count": null,
      "outputs": []
    },
    {
      "cell_type": "markdown",
      "source": [
        "Single Run"
      ],
      "metadata": {
        "id": "BnVkuI_9S2DD"
      }
    },
    {
      "cell_type": "code",
      "source": [
        "import random as r\n",
        "# Select combo size (i.e. number of products in a combo)\n",
        "SetSize = r.randint(2, len(ProductList)-1)\n",
        "print(\"Number of Product: \", SetSize)\n",
        "\n",
        "\n",
        "# Select number of elements from Set\n",
        "ComboList = r.sample(list(ProductList.keys()),SetSize)\n",
        "print(\"Product List     : \", ComboList)\n",
        "\n",
        "\n",
        "# Sum the products in ColboList\n",
        "ComboSum = sum([ ProductList[i] for i in ComboList])\n",
        "print(\"Sum of Product   : \", ComboSum)"
      ],
      "metadata": {
        "id": "9dwmW-CNTUfU"
      },
      "execution_count": null,
      "outputs": []
    },
    {
      "cell_type": "markdown",
      "source": [
        "3 Start Program"
      ],
      "metadata": {
        "id": "4QzKbaO3S66u"
      }
    },
    {
      "cell_type": "code",
      "source": [
        "# Loop till number of Iterations\n",
        "ResultList  = set()\n",
        "\n",
        "for i in range(Iterations):\n",
        "\n",
        "    # Select combo size (i.e. number of products in a combo)\n",
        "    SetSize = r.randint(2, len(ProductList)-1)\n",
        "\n",
        "    # Select number of elements from Set\n",
        "    ComboList = r.sample(list(ProductList.keys()),SetSize)\n",
        "\n",
        "    # Sum the products in ColboList\n",
        "    ComboSum = sum([ ProductList[i] for i in ComboList])\n",
        "\n",
        "    # Check the Sum Between LB and UB\n",
        "    if ComboSum>= LB and ComboSum<= UB:\n",
        "      ResultList.add(tuple(ComboList))\n",
        "\n",
        "print(\"Done\")\n"
      ],
      "metadata": {
        "id": "zMLhIGo8S_Da"
      },
      "execution_count": null,
      "outputs": []
    },
    {
      "cell_type": "markdown",
      "source": [
        "4 Print the comboLists and total count"
      ],
      "metadata": {
        "id": "1l-m0MwATYj5"
      }
    },
    {
      "cell_type": "code",
      "source": [
        "# Print all the sets whose sum is between LB and UB\n",
        "for r in ResultList:\n",
        "\tprint (r)\n",
        "\n",
        "# Print total sets\n",
        "print (\"\\nTotal Sets: \", len(ResultList), \"\\n\")"
      ],
      "metadata": {
        "id": "0H4mJIH-TZyb"
      },
      "execution_count": null,
      "outputs": []
    },
    {
      "cell_type": "markdown",
      "source": [
        "5 Complete Program with sorting"
      ],
      "metadata": {
        "id": "KWVw7pxgTc2N"
      }
    },
    {
      "cell_type": "code",
      "source": [
        "#-------------------------------------------------------------\n",
        "# Step 1: Library inclusion\n",
        "#-------------------------------------------------------------\n",
        "import random as r\n",
        "\n",
        "\n",
        "#-------------------------------------------------------------\n",
        "# Step 2: Parameter Setting\n",
        "#-------------------------------------------------------------\n",
        "ProductList = {'p1':10, 'p2':15, 'p3':20, 'p4':25, 'p5':30, 'p6':35, 'p7':50,\n",
        "               'p8':40, 'p9':55, 'p10':60, 'p11':65, 'p12':75, 'p13':70,\n",
        "               'p14':45}\n",
        "LB          = 290\n",
        "UB          = 310\n",
        "ResultList  = set()   # Store Result List i.e. list of sets whose sum is between 90 and 210.\n",
        "Iterations  = 1000    # Number of Inerations\n",
        "\n",
        "\n",
        "#-------------------------------------------------------------\n",
        "# Step3: Start Program\n",
        "#-------------------------------------------------------------\n",
        "for i in range(Iterations):\n",
        "\n",
        "    # Select combo size (i.e. number of products in a combo)\n",
        "    SetSize = r.randint(2, len(ProductList)-1)\n",
        "\n",
        "    # Select number of elements from Set\n",
        "    ComboList = r.sample(list(ProductList.keys()),SetSize)\n",
        "    ComboList.sort()\n",
        "\n",
        "    # Sum the products in ColboList\n",
        "    ComboSum = sum([ ProductList[i] for i in ComboList])\n",
        "\n",
        "    # Check the Sum Between LB and UB\n",
        "    if ComboSum>= LB and ComboSum<= UB:\n",
        "      ResultList.add(tuple(ComboList))\n",
        "\n",
        "\n",
        "# Print all the sets whose sum is between LB and UB\n",
        "for r in ResultList:\n",
        "\tprint (r)\n",
        "\n",
        "# Print total sets\n",
        "print (\"\\nTotal Sets: \", len(ResultList), \"\\n\")"
      ],
      "metadata": {
        "id": "tZWC3RYLTgLw"
      },
      "execution_count": null,
      "outputs": []
    },
    {
      "cell_type": "markdown",
      "source": [],
      "metadata": {
        "id": "EcpvJwgjTkb3"
      }
    }
  ]
}