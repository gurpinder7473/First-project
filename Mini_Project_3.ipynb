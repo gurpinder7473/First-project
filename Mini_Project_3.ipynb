{
  "nbformat": 4,
  "nbformat_minor": 0,
  "metadata": {
    "colab": {
      "provenance": [],
      "include_colab_link": true
    },
    "kernelspec": {
      "name": "python3",
      "display_name": "Python 3"
    },
    "language_info": {
      "name": "python"
    }
  },
  "cells": [
    {
      "cell_type": "markdown",
      "metadata": {
        "id": "view-in-github",
        "colab_type": "text"
      },
      "source": [
        "<a href=\"https://colab.research.google.com/github/gurpinder7473/First-project/blob/main/Mini_Project_3.ipynb\" target=\"_parent\"><img src=\"https://colab.research.google.com/assets/colab-badge.svg\" alt=\"Open In Colab\"/></a>"
      ]
    },
    {
      "cell_type": "markdown",
      "source": [
        "# **Subset Selection Problem**\n",
        "1. Problem Statement:\n",
        "Find all the subsets from a set of numbers whose sum is zero.\n",
        "\n",
        "Constraint: Subset size must be 5\n",
        "Set={-12, -3, -6, 7, 2, -2, 6, 3, 9, -7, -5, -8, 1, 11, -9, -4}"
      ],
      "metadata": {
        "id": "yw-TCuJmO_D3"
      }
    },
    {
      "cell_type": "markdown",
      "source": [
        "1.1 Library inclusion"
      ],
      "metadata": {
        "id": "7KBPh-k_PAGQ"
      }
    },
    {
      "cell_type": "code",
      "source": [
        "import random as r"
      ],
      "metadata": {
        "id": "torCwbVIPJdZ"
      },
      "execution_count": null,
      "outputs": []
    },
    {
      "cell_type": "markdown",
      "source": [
        "1.2 Parameter Setting"
      ],
      "metadata": {
        "id": "wr_4MD6wPNQE"
      }
    },
    {
      "cell_type": "code",
      "source": [
        "Set         = set([-12, -3, -6, 7, 2, -2, 6, 3, 9, -7, -5, -8, 1, 11, -9, -4])\n",
        "SetSize     = 5\n",
        "ResultList  = set()    # Store Result List i.e. list of sets whose sum is zero\n",
        "Iterations  = 1000    # Number of Iterations"
      ],
      "metadata": {
        "id": "jY7LbqcyPPYc"
      },
      "execution_count": null,
      "outputs": []
    },
    {
      "cell_type": "markdown",
      "source": [
        "\n",
        "1.3 Start Program\n"
      ],
      "metadata": {
        "id": "x7wdgzAkPeYa"
      }
    },
    {
      "cell_type": "code",
      "source": [
        "# Loop till number of Iterations\n",
        "for i in range(Iterations):\n",
        "    # Select number of elements from Set\n",
        "    Chromosome = r.sample(list(Set),SetSize)\n",
        "\n",
        "    # Sum the number of elements in the Chromosome\n",
        "    if sum(Chromosome) == 0:\n",
        "        ResultList.add(tuple(Chromosome))"
      ],
      "metadata": {
        "id": "Wb0mLI2CPi0z"
      },
      "execution_count": null,
      "outputs": []
    },
    {
      "cell_type": "markdown",
      "source": [
        "1.4 Print the sets and total count"
      ],
      "metadata": {
        "id": "9IOIjl1cPn0j"
      }
    },
    {
      "cell_type": "code",
      "source": [
        "# Print all the sets whose sum is zero\n",
        "for r in ResultList:\n",
        "\tprint (r)\n",
        "\n",
        "# Print total sets\n",
        "print (\"\\nTotal Sets: \", len(ResultList), \"\\n\")"
      ],
      "metadata": {
        "colab": {
          "base_uri": "https://localhost:8080/"
        },
        "id": "6dvJYUBXPp-O",
        "outputId": "58e1cf27-5f59-4228-c641-b6818658e06a"
      },
      "execution_count": null,
      "outputs": [
        {
          "output_type": "stream",
          "name": "stdout",
          "text": [
            "(1, 6, -5, 7, -9)\n",
            "(-7, -6, 11, 7, -5)\n",
            "(-9, 11, -3, -8, 9)\n",
            "(-8, -3, 7, -7, 11)\n",
            "(-12, 11, 7, -9, 3)\n",
            "(-9, 7, 2, 3, -3)\n",
            "(-7, 1, 11, -3, -2)\n",
            "(-6, 6, 9, -4, -5)\n",
            "(-4, 7, 2, -3, -2)\n",
            "(1, 9, -5, -3, -2)\n",
            "(11, 2, -7, 6, -12)\n",
            "(-2, 2, 1, -12, 11)\n",
            "(-5, 9, 7, -3, -8)\n",
            "(-4, 2, 9, 1, -8)\n",
            "(2, -2, -6, -3, 9)\n",
            "(11, -8, 9, -3, -9)\n",
            "(9, -8, 1, -5, 3)\n",
            "(3, -2, 6, -8, 1)\n",
            "(-12, 3, 9, -6, 6)\n",
            "(-8, 11, -5, 6, -4)\n",
            "(-12, -2, 7, 6, 1)\n",
            "(-4, 11, -6, 6, -7)\n",
            "(-5, 9, 1, 3, -8)\n",
            "(-9, 6, 9, 2, -8)\n",
            "(-2, -6, 6, -5, 7)\n",
            "(-4, -8, 3, 2, 7)\n",
            "(-2, 9, -3, 2, -6)\n",
            "(11, -5, 3, -2, -7)\n",
            "(3, 2, 6, -3, -8)\n",
            "(-12, -5, 1, 9, 7)\n",
            "(2, -8, -2, 11, -3)\n",
            "(-9, 11, 3, -3, -2)\n",
            "(1, -3, 2, -9, 9)\n",
            "(-2, -4, 7, 2, -3)\n",
            "(2, -6, -4, 11, -3)\n",
            "\n",
            "Total Sets:  35 \n",
            "\n"
          ]
        }
      ]
    },
    {
      "cell_type": "markdown",
      "source": [
        "1.5 Complete Program"
      ],
      "metadata": {
        "id": "mKFtiqAPPvNC"
      }
    },
    {
      "cell_type": "code",
      "source": [
        "#-------------------------------------------------------------\n",
        "# Step 1: Library inclusion\n",
        "#-------------------------------------------------------------\n",
        "import random as r\n",
        "\n",
        "\n",
        "#-------------------------------------------------------------\n",
        "# Step 2: Parameter Setting\n",
        "#-------------------------------------------------------------\n",
        "Set         = [-12, -3, -6, 7, 2, -2, 6, 3, 9, -7, -5, -8, 1, 11, -9, -4]\n",
        "SetSize     = 5\n",
        "ResultList  = set()\n",
        "Iterations  = 1000   # Number of Iterations\n",
        "\n",
        "\n",
        "#-------------------------------------------------------------\n",
        "# Step3: Start Program\n",
        "#-------------------------------------------------------------\n",
        "\n",
        "# Loop till number of Iterations\n",
        "for i in range(Iterations):\n",
        "    # Select number of elements from Set\n",
        "    Chromosome = r.sample(Set,SetSize)\n",
        "    #sort chromomsome\n",
        "    # Sort for consistent ordering and de-duplication\n",
        "    Chromosome.sort()\n",
        "\n",
        "    # Sum the number of elements in the Chromosome\n",
        "    if sum(Chromosome) == 0:\n",
        "        ResultList.add(tuple(Chromosome))\n",
        "\n",
        "# Print all the sets whose sum is zero\n",
        "for r in ResultList:\n",
        "        print (r)\n",
        "\n",
        "# Print total sets\n",
        "print (\"\\nTotal Sets: \", len(ResultList))"
      ],
      "metadata": {
        "id": "HuRsYJZuPwPz",
        "colab": {
          "base_uri": "https://localhost:8080/"
        },
        "outputId": "773123c3-437e-4c82-a4a3-2722916bb695"
      },
      "execution_count": null,
      "outputs": [
        {
          "output_type": "stream",
          "name": "stdout",
          "text": [
            "(-12, -3, 2, 6, 7)\n",
            "(-6, -5, 1, 3, 7)\n",
            "(-9, -7, 2, 3, 11)\n",
            "(-7, -4, 2, 3, 6)\n",
            "(-9, -5, 1, 2, 11)\n",
            "(-6, -4, -3, 6, 7)\n",
            "(-9, -7, -4, 9, 11)\n",
            "(-7, -6, 1, 3, 9)\n",
            "(-7, -5, -2, 3, 11)\n",
            "(-12, 1, 2, 3, 6)\n",
            "(-6, -5, -3, 3, 11)\n",
            "(-7, -4, -2, 2, 11)\n",
            "(-8, -5, -2, 6, 9)\n",
            "(-9, -7, -2, 7, 11)\n",
            "(-5, -3, -2, 1, 9)\n",
            "(-12, -4, -2, 7, 11)\n",
            "(-8, -5, -3, 7, 9)\n",
            "(-8, -2, 1, 2, 7)\n",
            "(-9, -6, -2, 6, 11)\n",
            "(-6, -3, -2, 2, 9)\n",
            "(-6, -4, -2, 1, 11)\n",
            "(-8, -7, 2, 6, 7)\n",
            "(-9, -4, 1, 3, 9)\n",
            "(-12, -9, 1, 9, 11)\n",
            "\n",
            "Total Sets:  24\n"
          ]
        }
      ]
    },
    {
      "cell_type": "markdown",
      "source": [
        "1.6 Complete Program with sorting"
      ],
      "metadata": {
        "id": "hM4gXxwgP0kN"
      }
    },
    {
      "cell_type": "code",
      "source": [
        "#-------------------------------------------------------------\n",
        "# Step 1: Library inclusion\n",
        "#-------------------------------------------------------------\n",
        "import random as r\n",
        "\n",
        "\n",
        "#-------------------------------------------------------------\n",
        "# Step 2: Parameter Setting\n",
        "#-------------------------------------------------------------\n",
        "Set         = [-12, -3, -6, 7, 2, -2, 6, 3, 9, -7, -5, -8, 1, 11, -9, -4]\n",
        "SetSize     = 5\n",
        "ResultList  = set()    # Store Result List i.e. list of sets whose sum is zero\n",
        "Iterations  = 1000   # Number of Inerations\n",
        "\n",
        "\n",
        "#-------------------------------------------------------------\n",
        "# Step3: Start Program\n",
        "#-------------------------------------------------------------\n",
        "\n",
        "# Loop till number of Iterations\n",
        "for i in range(Iterations):\n",
        "    # Select number of elements from Set\n",
        "    Chromosome = r.sample(Set,SetSize)\n",
        "    Chromosome.sort()\n",
        "\n",
        "    # Sum the number of elements in the Chromosome\n",
        "    if sum(Chromosome) == 0:\n",
        "        ResultList.add(tuple(Chromosome))\n",
        "\n",
        "# Print all the sets whose sum is zero\n",
        "for r in ResultList:\n",
        "        print (r)\n",
        "\n",
        "# Print total sets\n",
        "print (\"\\nTotal Sets: \", len(ResultList))"
      ],
      "metadata": {
        "colab": {
          "base_uri": "https://localhost:8080/"
        },
        "id": "vF817U3oP31u",
        "outputId": "f83c0a79-2f7c-4f26-96d4-e130f3be8ab3"
      },
      "execution_count": null,
      "outputs": [
        {
          "output_type": "stream",
          "name": "stdout",
          "text": [
            "(-9, -3, 2, 3, 7)\n",
            "(-8, -6, -4, 7, 11)\n",
            "(-6, -5, 1, 3, 7)\n",
            "(-8, -7, -3, 7, 11)\n",
            "(-12, -2, 1, 6, 7)\n",
            "(-7, -4, 2, 3, 6)\n",
            "(-12, -3, -2, 6, 11)\n",
            "(-8, -6, -2, 7, 9)\n",
            "(-7, -6, -2, 6, 9)\n",
            "(-6, -4, 1, 3, 6)\n",
            "(-12, -4, 2, 3, 11)\n",
            "(-7, -3, -2, 3, 9)\n",
            "(-8, -7, 1, 3, 11)\n",
            "(-6, -5, -3, 3, 11)\n",
            "(-7, -3, 1, 2, 7)\n",
            "(-6, -3, 1, 2, 6)\n",
            "(-8, -4, 1, 2, 9)\n",
            "(-6, -4, -2, 3, 9)\n",
            "(-8, -5, -3, 7, 9)\n",
            "(-12, -5, 2, 6, 9)\n",
            "(-7, -5, 1, 2, 9)\n",
            "(-7, -6, -3, 7, 9)\n",
            "(-5, -4, -3, 3, 9)\n",
            "(-7, -5, -4, 7, 9)\n",
            "(-7, -6, -4, 6, 11)\n",
            "(-8, -7, 2, 6, 7)\n",
            "\n",
            "Total Sets:  26\n"
          ]
        }
      ]
    },
    {
      "cell_type": "markdown",
      "source": [
        "2. Problem Statement:"
      ],
      "metadata": {
        "id": "RUbQao6BP-Pe"
      }
    },
    {
      "cell_type": "markdown",
      "source": [
        "Find all the subsets from a set of numbers whose sum is zero.\n",
        "\n",
        "Constraint: Subset size must be 3 to 6 only\n",
        "\n",
        "Set={-12, -3, -6, 7, 2, -2, 6, 3, 9, -7, -5, -8, 1, 11, -9, -4}\n",
        "\n"
      ],
      "metadata": {
        "id": "ilseE-AIQEw-"
      }
    },
    {
      "cell_type": "code",
      "source": [
        "#-------------------------------------------------------------\n",
        "# Step 1: Library inclusion\n",
        "#-------------------------------------------------------------\n",
        "import random as r\n",
        "\n",
        "\n",
        "#-------------------------------------------------------------\n",
        "# Step 2: Parameter Setting\n",
        "#-------------------------------------------------------------\n",
        "Set         = [-12, -3, -6, 7, 2, -2, 6, 3, 9, -7, -5, -8, 1, 11, -9, -4]\n",
        "SetLB       = 3\n",
        "SetUB       = 6\n",
        "ResultList  = set()    # Store Result List i.e. list of sets whose sum is zero\n",
        "Iterations  = 1000   # Number of Inerations\n",
        "\n",
        "\n",
        "#-------------------------------------------------------------\n",
        "# Step3: Start Program\n",
        "#-------------------------------------------------------------\n",
        "\n",
        "# Loop till number of Iterations\n",
        "for i in range(Iterations):\n",
        "    # Select set size randomly\n",
        "    SetSize = r.randint(SetLB,SetUB)\n",
        "\n",
        "    # Select number of elements from Set\n",
        "    Chromosome = r.sample(Set,SetSize)\n",
        "    Chromosome.sort()\n",
        "\n",
        "    # Sum the number of elements in the Chromosome\n",
        "    if sum(Chromosome) == 0:\n",
        "        ResultList.add(tuple(Chromosome))\n",
        "\n",
        "# Print all the sets whose sum is zero\n",
        "for r in ResultList:\n",
        "        print (r)\n",
        "\n",
        "# Print total sets\n",
        "print (\"\\nTotal Sets: \", len(ResultList))"
      ],
      "metadata": {
        "colab": {
          "base_uri": "https://localhost:8080/"
        },
        "id": "5JH_rtVfQIJX",
        "outputId": "f1a66303-1d1b-4c99-f9d9-cccdd164b113"
      },
      "execution_count": null,
      "outputs": [
        {
          "output_type": "stream",
          "name": "stdout",
          "text": [
            "(-8, -3, 2, 9)\n",
            "(-7, -6, -4, 1, 7, 9)\n",
            "(-8, -5, -4, 6, 11)\n",
            "(-9, -3, 3, 9)\n",
            "(-5, -4, -3, 2, 3, 7)\n",
            "(-5, 2, 3)\n",
            "(-7, -3, 1, 9)\n",
            "(-12, -4, -2, 2, 7, 9)\n",
            "(-7, -2, 9)\n",
            "(-4, -3, -2, 9)\n",
            "(-6, -5, 2, 9)\n",
            "(-8, 1, 7)\n",
            "(-7, -4, 11)\n",
            "(-6, -4, -3, 2, 11)\n",
            "(-8, -7, -6, 1, 9, 11)\n",
            "(-6, -5, 11)\n",
            "(-8, -7, -3, 3, 6, 9)\n",
            "(-7, 1, 6)\n",
            "(-9, 3, 6)\n",
            "(-4, -3, 1, 6)\n",
            "(-8, -3, 11)\n",
            "(-5, -3, -2, 1, 2, 7)\n",
            "(-7, -2, 3, 6)\n",
            "\n",
            "Total Sets:  23\n"
          ]
        }
      ]
    }
  ]
}