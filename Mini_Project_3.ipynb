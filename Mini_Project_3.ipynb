{
  "nbformat": 4,
  "nbformat_minor": 0,
  "metadata": {
    "colab": {
      "provenance": [],
      "authorship_tag": "ABX9TyOqN9SbKugUiwEhoIXzSUmE",
      "include_colab_link": true
    },
    "kernelspec": {
      "name": "python3",
      "display_name": "Python 3"
    },
    "language_info": {
      "name": "python"
    }
  },
  "cells": [
    {
      "cell_type": "markdown",
      "metadata": {
        "id": "view-in-github",
        "colab_type": "text"
      },
      "source": [
        "<a href=\"https://colab.research.google.com/github/gurpinder7473/First-project/blob/main/Mini_Project_3.ipynb\" target=\"_parent\"><img src=\"https://colab.research.google.com/assets/colab-badge.svg\" alt=\"Open In Colab\"/></a>"
      ]
    },
    {
      "cell_type": "markdown",
      "source": [
        "Subset Selection Problem\n",
        "1. Problem Statement:\n",
        "Find all the subsets from a set of numbers whose sum is zero.\n",
        "\n",
        "Constraint: Subset size must be 5\n",
        "Set={-12, -3, -6, 7, 2, -2, 6, 3, 9, -7, -5, -8, 1, 11, -9, -4}"
      ],
      "metadata": {
        "id": "yw-TCuJmO_D3"
      }
    },
    {
      "cell_type": "markdown",
      "source": [
        "1.1 Library inclusion"
      ],
      "metadata": {
        "id": "7KBPh-k_PAGQ"
      }
    },
    {
      "cell_type": "code",
      "source": [
        "import random as r"
      ],
      "metadata": {
        "id": "torCwbVIPJdZ"
      },
      "execution_count": null,
      "outputs": []
    },
    {
      "cell_type": "markdown",
      "source": [
        "1.2 Parameter Setting"
      ],
      "metadata": {
        "id": "wr_4MD6wPNQE"
      }
    },
    {
      "cell_type": "code",
      "source": [
        "Set         = set([-12, -3, -6, 7, 2, -2, 6, 3, 9, -7, -5, -8, 1, 11, -9, -4])\n",
        "SetSize     = 5\n",
        "ResultList  = set()    # Store Result List i.e. list of sets whose sum is zero\n",
        "Iterations  = 1000    # Number of Inerations"
      ],
      "metadata": {
        "id": "jY7LbqcyPPYc"
      },
      "execution_count": null,
      "outputs": []
    },
    {
      "cell_type": "markdown",
      "source": [
        "\n",
        "1.3 Start Program\n"
      ],
      "metadata": {
        "id": "x7wdgzAkPeYa"
      }
    },
    {
      "cell_type": "code",
      "source": [
        "# Loop till number of Iterations\n",
        "for i in range(Iterations):\n",
        "    # Select number of elements from Set\n",
        "    Chromosome = r.sample(list(Set),SetSize)\n",
        "\n",
        "    # Sum the number of elements in the Chromosome\n",
        "    if sum(Chromosome) == 0:\n",
        "        ResultList.add(tuple(Chromosome))"
      ],
      "metadata": {
        "id": "Wb0mLI2CPi0z"
      },
      "execution_count": null,
      "outputs": []
    },
    {
      "cell_type": "markdown",
      "source": [
        "1.4 Print the sets and total count"
      ],
      "metadata": {
        "id": "9IOIjl1cPn0j"
      }
    },
    {
      "cell_type": "code",
      "source": [
        "# Print all the sets whose sum is zero\n",
        "for r in ResultList:\n",
        "\tprint (r)\n",
        "\n",
        "# Print total sets\n",
        "print (\"\\nTotal Sets: \", len(ResultList), \"\\n\")"
      ],
      "metadata": {
        "colab": {
          "base_uri": "https://localhost:8080/"
        },
        "id": "6dvJYUBXPp-O",
        "outputId": "41759fe5-8eb8-4179-e831-79f1057db59e"
      },
      "execution_count": null,
      "outputs": [
        {
          "output_type": "stream",
          "name": "stdout",
          "text": [
            "(-2, -4, 2, 1, 3)\n",
            "(-7, -2, 7, -9, 11)\n",
            "(-4, 3, -12, 7, 6)\n",
            "(3, -4, 6, 2, -7)\n",
            "(11, -12, -7, 2, 6)\n",
            "(-7, 2, 9, -5, 1)\n",
            "(1, 2, -8, 9, -4)\n",
            "(-7, -3, 6, 3, 1)\n",
            "(11, 2, -6, 1, -8)\n",
            "(-6, 9, -12, 11, -2)\n",
            "(1, 3, 2, -2, -4)\n",
            "(11, -3, -9, -6, 7)\n",
            "(-4, 1, -9, 3, 9)\n",
            "(-6, -4, 6, 3, 1)\n",
            "(2, -3, 6, 3, -8)\n",
            "(3, -2, 9, -3, -7)\n",
            "(-8, 2, 7, -7, 6)\n",
            "(11, 3, -5, -2, -7)\n",
            "(2, 6, -8, -3, 3)\n",
            "(6, 1, -12, 2, 3)\n",
            "(6, -8, -3, -2, 7)\n",
            "(-3, 9, -12, 11, -5)\n",
            "(2, 6, 7, -8, -7)\n",
            "(-7, 6, 7, -2, -4)\n",
            "(9, -3, -12, -5, 11)\n",
            "(7, 1, -4, -6, 2)\n",
            "(1, 7, -6, 6, -8)\n",
            "(-12, 2, 9, -6, 7)\n",
            "(1, 7, 2, -3, -7)\n",
            "(-4, 6, -5, -6, 9)\n",
            "(2, 11, -7, -12, 6)\n",
            "(3, -3, 9, -4, -5)\n",
            "(2, 1, 6, -12, 3)\n",
            "(11, -2, 3, -9, -3)\n",
            "(-7, -5, 2, 9, 1)\n",
            "(2, 3, 7, -3, -9)\n",
            "(-3, 6, -8, -4, 9)\n",
            "(-4, 11, -7, -6, 6)\n",
            "(-4, 7, -7, 1, 3)\n",
            "(1, 3, 9, -7, -6)\n",
            "(-8, -2, 2, 11, -3)\n",
            "(3, 9, -9, 2, -5)\n",
            "(-12, -7, 7, 9, 3)\n",
            "(-6, 11, 3, -3, -5)\n",
            "(-7, 1, 11, -2, -3)\n",
            "(-3, -7, 11, -8, 7)\n",
            "(9, -12, -7, 7, 3)\n",
            "(-5, 6, 2, 1, -4)\n",
            "(9, -2, -8, -6, 7)\n",
            "(-7, 2, 11, -12, 6)\n",
            "(-12, 11, -4, -2, 7)\n",
            "(3, 11, -3, -5, -6)\n",
            "(-9, 11, 7, -3, -6)\n",
            "(-3, -5, 11, -4, 1)\n",
            "(7, -4, 6, -2, -7)\n",
            "(6, -7, 11, -4, -6)\n",
            "(-8, -3, 7, 3, 1)\n",
            "(3, 2, 6, -3, -8)\n",
            "(3, -8, 1, -5, 9)\n",
            "(11, -3, -6, -8, 6)\n",
            "(7, 1, -9, 6, -5)\n",
            "(7, -12, -7, 11, 1)\n",
            "(7, 2, -4, -8, 3)\n",
            "(6, 3, -7, -4, 2)\n",
            "(2, 7, 6, -7, -8)\n",
            "(1, 7, 2, -7, -3)\n",
            "(1, -4, 3, -2, 2)\n",
            "(1, 3, -7, 7, -4)\n",
            "(11, -3, 2, -4, -6)\n",
            "(3, 11, -2, -8, -4)\n",
            "(1, 3, -3, 6, -7)\n",
            "(-8, -5, 6, -2, 9)\n",
            "(-12, -2, 9, 3, 2)\n",
            "(-8, -2, 1, 3, 6)\n",
            "(3, -3, 2, -9, 7)\n",
            "(-3, -7, -2, 11, 1)\n",
            "(7, 2, -8, 1, -2)\n",
            "(-9, -5, 7, 11, -4)\n",
            "(-5, 7, 6, -2, -6)\n",
            "(7, -9, 11, -2, -7)\n",
            "(-8, 6, 7, -2, -3)\n",
            "(9, -3, -2, 3, -7)\n",
            "(7, 11, -6, -5, -7)\n",
            "(-2, -4, -5, 2, 9)\n",
            "(-5, -7, 3, 7, 2)\n",
            "\n",
            "Total Sets:  85 \n",
            "\n"
          ]
        }
      ]
    },
    {
      "cell_type": "markdown",
      "source": [
        "1.5 Complete Program"
      ],
      "metadata": {
        "id": "mKFtiqAPPvNC"
      }
    },
    {
      "cell_type": "code",
      "source": [
        "#-------------------------------------------------------------\n",
        "# Step 1: Library inclusion\n",
        "#-------------------------------------------------------------\n",
        "import random as r\n",
        "\n",
        "\n",
        "#-------------------------------------------------------------\n",
        "# Step 2: Parameter Setting\n",
        "#-------------------------------------------------------------\n",
        "Set         = set([-12, -3, -6, 7, 2, -2, 6, 3, 9, -7, -5, -8, 1, 11, -9, -4])\n",
        "SetSize     = 5\n",
        "ResultList  = set()    # Store Result List i.e. list of sets whose sum is zero\n",
        "Iterations  = 1000   # Number of Inerations\n",
        "\n",
        "\n",
        "#-------------------------------------------------------------\n",
        "# Step3: Start Program\n",
        "#-------------------------------------------------------------\n",
        "\n",
        "# Loop till number of Iterations\n",
        "for i in range(Iterations):\n",
        "    # Select number of elements from Set\n",
        "    Chromosome = r.sample(Set,SetSize)\n",
        "\n",
        "    # Sum the number of elements in the Chromosome\n",
        "    if sum(Chromosome) == 0:\n",
        "        ResultList.add(tuple(Chromosome))\n",
        "\n",
        "# Print all the sets whose sum is zero\n",
        "for r in ResultList:\n",
        "\tprint (r)\n",
        "\n",
        "# Print total sets\n",
        "print (\"\\nTotal Sets: \", len(ResultList))"
      ],
      "metadata": {
        "id": "HuRsYJZuPwPz"
      },
      "execution_count": null,
      "outputs": []
    },
    {
      "cell_type": "markdown",
      "source": [
        "1.6 Complete Program with sorting"
      ],
      "metadata": {
        "id": "hM4gXxwgP0kN"
      }
    },
    {
      "cell_type": "code",
      "source": [
        "#-------------------------------------------------------------\n",
        "# Step 1: Library inclusion\n",
        "#-------------------------------------------------------------\n",
        "import random as r\n",
        "\n",
        "\n",
        "#-------------------------------------------------------------\n",
        "# Step 2: Parameter Setting\n",
        "#-------------------------------------------------------------\n",
        "Set         = set([-12, -3, -6, 7, 2, -2, 6, 3, 9, -7, -5, -8, 1, 11, -9, -4])\n",
        "SetSize     = 5\n",
        "ResultList  = set()    # Store Result List i.e. list of sets whose sum is zero\n",
        "Iterations  = 1000   # Number of Inerations\n",
        "\n",
        "\n",
        "#-------------------------------------------------------------\n",
        "# Step3: Start Program\n",
        "#-------------------------------------------------------------\n",
        "\n",
        "# Loop till number of Iterations\n",
        "for i in range(Iterations):\n",
        "    # Select number of elements from Set\n",
        "    Chromosome = r.sample(Set,SetSize)\n",
        "    Chromosome.sort()\n",
        "\n",
        "    # Sum the number of elements in the Chromosome\n",
        "    if sum(Chromosome) == 0:\n",
        "        ResultList.add(tuple(Chromosome))\n",
        "\n",
        "# Print all the sets whose sum is zero\n",
        "for r in ResultList:\n",
        "\tprint (r)\n",
        "\n",
        "# Print total sets\n",
        "print (\"\\nTotal Sets: \", len(ResultList))"
      ],
      "metadata": {
        "colab": {
          "base_uri": "https://localhost:8080/",
          "height": 332
        },
        "id": "vF817U3oP31u",
        "outputId": "f87ac76b-67f6-42df-fe69-f11cef8d7666"
      },
      "execution_count": null,
      "outputs": [
        {
          "output_type": "error",
          "ename": "TypeError",
          "evalue": "Population must be a sequence.  For dicts or sets, use sorted(d).",
          "traceback": [
            "\u001b[0;31m---------------------------------------------------------------------------\u001b[0m",
            "\u001b[0;31mTypeError\u001b[0m                                 Traceback (most recent call last)",
            "\u001b[0;32m<ipython-input-10-3917770848>\u001b[0m in \u001b[0;36m<cell line: 0>\u001b[0;34m()\u001b[0m\n\u001b[1;32m     21\u001b[0m \u001b[0;32mfor\u001b[0m \u001b[0mi\u001b[0m \u001b[0;32min\u001b[0m \u001b[0mrange\u001b[0m\u001b[0;34m(\u001b[0m\u001b[0mIterations\u001b[0m\u001b[0;34m)\u001b[0m\u001b[0;34m:\u001b[0m\u001b[0;34m\u001b[0m\u001b[0;34m\u001b[0m\u001b[0m\n\u001b[1;32m     22\u001b[0m     \u001b[0;31m# Select number of elements from Set\u001b[0m\u001b[0;34m\u001b[0m\u001b[0;34m\u001b[0m\u001b[0m\n\u001b[0;32m---> 23\u001b[0;31m     \u001b[0mChromosome\u001b[0m \u001b[0;34m=\u001b[0m \u001b[0mr\u001b[0m\u001b[0;34m.\u001b[0m\u001b[0msample\u001b[0m\u001b[0;34m(\u001b[0m\u001b[0mSet\u001b[0m\u001b[0;34m,\u001b[0m\u001b[0mSetSize\u001b[0m\u001b[0;34m)\u001b[0m\u001b[0;34m\u001b[0m\u001b[0;34m\u001b[0m\u001b[0m\n\u001b[0m\u001b[1;32m     24\u001b[0m     \u001b[0mChromosome\u001b[0m\u001b[0;34m.\u001b[0m\u001b[0msort\u001b[0m\u001b[0;34m(\u001b[0m\u001b[0;34m)\u001b[0m\u001b[0;34m\u001b[0m\u001b[0;34m\u001b[0m\u001b[0m\n\u001b[1;32m     25\u001b[0m \u001b[0;34m\u001b[0m\u001b[0m\n",
            "\u001b[0;32m/usr/lib/python3.11/random.py\u001b[0m in \u001b[0;36msample\u001b[0;34m(self, population, k, counts)\u001b[0m\n\u001b[1;32m    437\u001b[0m \u001b[0;34m\u001b[0m\u001b[0m\n\u001b[1;32m    438\u001b[0m         \u001b[0;32mif\u001b[0m \u001b[0;32mnot\u001b[0m \u001b[0misinstance\u001b[0m\u001b[0;34m(\u001b[0m\u001b[0mpopulation\u001b[0m\u001b[0;34m,\u001b[0m \u001b[0m_Sequence\u001b[0m\u001b[0;34m)\u001b[0m\u001b[0;34m:\u001b[0m\u001b[0;34m\u001b[0m\u001b[0;34m\u001b[0m\u001b[0m\n\u001b[0;32m--> 439\u001b[0;31m             raise TypeError(\"Population must be a sequence.  \"\n\u001b[0m\u001b[1;32m    440\u001b[0m                             \"For dicts or sets, use sorted(d).\")\n\u001b[1;32m    441\u001b[0m         \u001b[0mn\u001b[0m \u001b[0;34m=\u001b[0m \u001b[0mlen\u001b[0m\u001b[0;34m(\u001b[0m\u001b[0mpopulation\u001b[0m\u001b[0;34m)\u001b[0m\u001b[0;34m\u001b[0m\u001b[0;34m\u001b[0m\u001b[0m\n",
            "\u001b[0;31mTypeError\u001b[0m: Population must be a sequence.  For dicts or sets, use sorted(d)."
          ]
        }
      ]
    },
    {
      "cell_type": "markdown",
      "source": [
        "2. Problem Statement:"
      ],
      "metadata": {
        "id": "RUbQao6BP-Pe"
      }
    },
    {
      "cell_type": "markdown",
      "source": [
        "Find all the subsets from a set of numbers whose sum is zero.\n",
        "\n",
        "Constraint: Subset size must be 3 to 6 only\n",
        "\n",
        "Set={-12, -3, -6, 7, 2, -2, 6, 3, 9, -7, -5, -8, 1, 11, -9, -4}\n",
        "\n"
      ],
      "metadata": {
        "id": "ilseE-AIQEw-"
      }
    },
    {
      "cell_type": "code",
      "source": [
        "\n",
        "#-------------------------------------------------------------\n",
        "# Step 1: Library inclusion\n",
        "#-------------------------------------------------------------\n",
        "import random as r\n",
        "\n",
        "\n",
        "#-------------------------------------------------------------\n",
        "# Step 2: Parameter Setting\n",
        "#-------------------------------------------------------------\n",
        "Set         = set([-12, -3, -6, 7, 2, -2, 6, 3, 9, -7, -5, -8, 1, 11, -9, -4])\n",
        "SetLB       = 3\n",
        "SetUB       = 6\n",
        "ResultList  = set()    # Store Result List i.e. list of sets whose sum is zero\n",
        "Iterations  = 1000   # Number of Inerations\n",
        "\n",
        "\n",
        "#-------------------------------------------------------------\n",
        "# Step3: Start Program\n",
        "#-------------------------------------------------------------\n",
        "\n",
        "# Loop till number of Iterations\n",
        "for i in range(Iterations):\n",
        "    # Select set size randomly\n",
        "    SetSize = r.randint(SetLB,SetUB)\n",
        "\n",
        "    # Select number of elements from Set\n",
        "    Chromosome = r.sample(Set,SetSize)\n",
        "    Chromosome.sort()\n",
        "\n",
        "    # Sum the number of elements in the Chromosome\n",
        "    if sum(Chromosome) == 0:\n",
        "        ResultList.add(tuple(Chromosome))\n",
        "\n",
        "# Print all the sets whose sum is zero\n",
        "for r in ResultList:\n",
        "\tprint (r)\n",
        "\n",
        "# Print total sets\n",
        "print (\"\\nTotal Sets: \", len(ResultList))"
      ],
      "metadata": {
        "colab": {
          "base_uri": "https://localhost:8080/",
          "height": 332
        },
        "id": "5JH_rtVfQIJX",
        "outputId": "83ee2ca1-5ece-4301-c4d8-d9329fcdff54"
      },
      "execution_count": null,
      "outputs": [
        {
          "output_type": "error",
          "ename": "TypeError",
          "evalue": "Population must be a sequence.  For dicts or sets, use sorted(d).",
          "traceback": [
            "\u001b[0;31m---------------------------------------------------------------------------\u001b[0m",
            "\u001b[0;31mTypeError\u001b[0m                                 Traceback (most recent call last)",
            "\u001b[0;32m<ipython-input-11-2850772985>\u001b[0m in \u001b[0;36m<cell line: 0>\u001b[0;34m()\u001b[0m\n\u001b[1;32m     25\u001b[0m \u001b[0;34m\u001b[0m\u001b[0m\n\u001b[1;32m     26\u001b[0m     \u001b[0;31m# Select number of elements from Set\u001b[0m\u001b[0;34m\u001b[0m\u001b[0;34m\u001b[0m\u001b[0m\n\u001b[0;32m---> 27\u001b[0;31m     \u001b[0mChromosome\u001b[0m \u001b[0;34m=\u001b[0m \u001b[0mr\u001b[0m\u001b[0;34m.\u001b[0m\u001b[0msample\u001b[0m\u001b[0;34m(\u001b[0m\u001b[0mSet\u001b[0m\u001b[0;34m,\u001b[0m\u001b[0mSetSize\u001b[0m\u001b[0;34m)\u001b[0m\u001b[0;34m\u001b[0m\u001b[0;34m\u001b[0m\u001b[0m\n\u001b[0m\u001b[1;32m     28\u001b[0m     \u001b[0mChromosome\u001b[0m\u001b[0;34m.\u001b[0m\u001b[0msort\u001b[0m\u001b[0;34m(\u001b[0m\u001b[0;34m)\u001b[0m\u001b[0;34m\u001b[0m\u001b[0;34m\u001b[0m\u001b[0m\n\u001b[1;32m     29\u001b[0m \u001b[0;34m\u001b[0m\u001b[0m\n",
            "\u001b[0;32m/usr/lib/python3.11/random.py\u001b[0m in \u001b[0;36msample\u001b[0;34m(self, population, k, counts)\u001b[0m\n\u001b[1;32m    437\u001b[0m \u001b[0;34m\u001b[0m\u001b[0m\n\u001b[1;32m    438\u001b[0m         \u001b[0;32mif\u001b[0m \u001b[0;32mnot\u001b[0m \u001b[0misinstance\u001b[0m\u001b[0;34m(\u001b[0m\u001b[0mpopulation\u001b[0m\u001b[0;34m,\u001b[0m \u001b[0m_Sequence\u001b[0m\u001b[0;34m)\u001b[0m\u001b[0;34m:\u001b[0m\u001b[0;34m\u001b[0m\u001b[0;34m\u001b[0m\u001b[0m\n\u001b[0;32m--> 439\u001b[0;31m             raise TypeError(\"Population must be a sequence.  \"\n\u001b[0m\u001b[1;32m    440\u001b[0m                             \"For dicts or sets, use sorted(d).\")\n\u001b[1;32m    441\u001b[0m         \u001b[0mn\u001b[0m \u001b[0;34m=\u001b[0m \u001b[0mlen\u001b[0m\u001b[0;34m(\u001b[0m\u001b[0mpopulation\u001b[0m\u001b[0;34m)\u001b[0m\u001b[0;34m\u001b[0m\u001b[0;34m\u001b[0m\u001b[0m\n",
            "\u001b[0;31mTypeError\u001b[0m: Population must be a sequence.  For dicts or sets, use sorted(d)."
          ]
        }
      ]
    },
    {
      "cell_type": "markdown",
      "source": [],
      "metadata": {
        "id": "PYGcUMqWQWMi"
      }
    }
  ]
}